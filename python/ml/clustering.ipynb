{
 "cells": [
  {
   "cell_type": "code",
   "execution_count": 1,
   "metadata": {
    "colab": {
     "base_uri": "https://localhost:8080/"
    },
    "id": "6f7VjsCAviwY",
    "outputId": "9337dbeb-0457-4151-8bdf-876082e7a481"
   },
   "outputs": [
    {
     "name": "stdout",
     "output_type": "stream",
     "text": [
      "Mounted at /content/gdrive/\n"
     ]
    }
   ],
   "source": [
    "from google.colab import drive\n",
    "drive.mount('/content/gdrive/', force_remount=True)"
   ]
  },
  {
   "cell_type": "code",
   "execution_count": 2,
   "metadata": {
    "id": "pXbFWBUgvx5E"
   },
   "outputs": [],
   "source": [
    "import pandas as pd"
   ]
  },
  {
   "cell_type": "code",
   "execution_count": 3,
   "metadata": {
    "id": "LXdTomv7wFbR"
   },
   "outputs": [],
   "source": [
    "data = pd.read_excel('/content/gdrive/My Drive/Приложение 1 (data set)/Data set.xlsx', header = 1)"
   ]
  },
  {
   "cell_type": "code",
   "execution_count": 4,
   "metadata": {
    "colab": {
     "base_uri": "https://localhost:8080/"
    },
    "id": "_rSx1d9Cz5Ld",
    "outputId": "22163f87-00f2-4b4b-f897-aa9452ea772c"
   },
   "outputs": [
    {
     "data": {
      "text/plain": [
       "Index(['Unnamed: 0', 'карточка учета животного №', 'вид ', 'возраст, год',\n",
       "       'вес, кг', 'кличка', 'пол', 'порода', 'окрас', 'шерсть', 'уши', 'хвост',\n",
       "       'размер', 'особые приметы', 'Вольер №', 'идентификационная метка',\n",
       "       'дата стерилизации', 'ф.и.о. ветеринарного врача',\n",
       "       'Социализировано (да/нет)',\n",
       "       'заказ-наряд / акт о поступлении животного №',\n",
       "       'заказ-наряд дата/ акт о поступлении животного, дата',\n",
       "       'административный округ', 'акт отлова №', 'адрес места отлова',\n",
       "       'юридическое лицо ', 'адрес', 'телефон', 'ф.и.о. опекунов', 'адрес.1',\n",
       "       'телефон.1', 'физическое лицо ф.и.о.', 'паспорт РФ серия номер',\n",
       "       'выдан', 'дата выдачи', 'адрес регистрации', 'телефон.2',\n",
       "       'дата поступления в приют', 'акт №', 'дата выбытия из приюта',\n",
       "       'причина выбытия', 'акт/договор №', 'адрес приюта',\n",
       "       'эксплуатирующая организация', 'ф.и.о. руководителя приюта',\n",
       "       'ф.и.о. сотрудника по уходу за животным', '№ п/п', 'дата',\n",
       "       'название препарата', 'доза', '№ п/п.1', 'дата.1', 'вид вакцины',\n",
       "       '№ серии', 'дата осмотра', 'анамнез '],\n",
       "      dtype='object')"
      ]
     },
     "execution_count": 4,
     "metadata": {
      "tags": []
     },
     "output_type": "execute_result"
    }
   ],
   "source": [
    "data.columns"
   ]
  },
  {
   "cell_type": "code",
   "execution_count": 5,
   "metadata": {
    "id": "nerc-N3HwPuj"
   },
   "outputs": [],
   "source": [
    "from sklearn.preprocessing import LabelEncoder\n",
    "\n",
    "columns = ['вид ', 'размер', 'окрас', 'шерсть', 'уши', 'хвост']\n",
    "\n",
    "X_data = data[columns]"
   ]
  },
  {
   "cell_type": "code",
   "execution_count": 6,
   "metadata": {
    "colab": {
     "base_uri": "https://localhost:8080/"
    },
    "id": "KMOcVLGA4XrO",
    "outputId": "4c89cc9c-9c17-4e74-b4a0-bc949d67e9da"
   },
   "outputs": [
    {
     "name": "stderr",
     "output_type": "stream",
     "text": [
      "/usr/local/lib/python3.6/dist-packages/ipykernel_launcher.py:1: SettingWithCopyWarning: \n",
      "A value is trying to be set on a copy of a slice from a DataFrame.\n",
      "Try using .loc[row_indexer,col_indexer] = value instead\n",
      "\n",
      "See the caveats in the documentation: https://pandas.pydata.org/pandas-docs/stable/user_guide/indexing.html#returning-a-view-versus-a-copy\n",
      "  \"\"\"Entry point for launching an IPython kernel.\n",
      "/usr/local/lib/python3.6/dist-packages/ipykernel_launcher.py:2: SettingWithCopyWarning: \n",
      "A value is trying to be set on a copy of a slice from a DataFrame.\n",
      "Try using .loc[row_indexer,col_indexer] = value instead\n",
      "\n",
      "See the caveats in the documentation: https://pandas.pydata.org/pandas-docs/stable/user_guide/indexing.html#returning-a-view-versus-a-copy\n",
      "  \n"
     ]
    }
   ],
   "source": [
    "X_data['вид '] = X_data['вид '].apply(lambda x: x.lower().strip())\n",
    "X_data['шерсть'] = X_data['шерсть'].apply(lambda x: x.lower().strip())"
   ]
  },
  {
   "cell_type": "code",
   "execution_count": 7,
   "metadata": {
    "colab": {
     "base_uri": "https://localhost:8080/"
    },
    "id": "dFwcOu0k6sUD",
    "outputId": "7d64e6b5-e3ae-4567-d491-03a2bca7967f"
   },
   "outputs": [
    {
     "name": "stdout",
     "output_type": "stream",
     "text": [
      "вид  2\n",
      "размер 4\n",
      "окрас 29\n",
      "шерсть 4\n",
      "уши 4\n",
      "хвост 6\n"
     ]
    }
   ],
   "source": [
    "for col in X_data.columns:\n",
    "    print(col, len(pd.unique(X_data[col])))"
   ]
  },
  {
   "cell_type": "code",
   "execution_count": 8,
   "metadata": {
    "colab": {
     "base_uri": "https://localhost:8080/"
    },
    "id": "0v0WoFnT0Kba",
    "outputId": "f85cdfd6-2460-4c24-de54-a5251a505f70"
   },
   "outputs": [
    {
     "name": "stderr",
     "output_type": "stream",
     "text": [
      "/usr/local/lib/python3.6/dist-packages/ipykernel_launcher.py:2: SettingWithCopyWarning: \n",
      "A value is trying to be set on a copy of a slice from a DataFrame.\n",
      "Try using .loc[row_indexer,col_indexer] = value instead\n",
      "\n",
      "See the caveats in the documentation: https://pandas.pydata.org/pandas-docs/stable/user_guide/indexing.html#returning-a-view-versus-a-copy\n",
      "  \n"
     ]
    }
   ],
   "source": [
    "for col in X_data.columns:\n",
    "    X_data[col + '_enc'] = LabelEncoder().fit_transform(X_data[col])"
   ]
  },
  {
   "cell_type": "code",
   "execution_count": 9,
   "metadata": {
    "id": "KwQBvMF-xrHM"
   },
   "outputs": [],
   "source": [
    "X_columns = ['вид _enc', 'размер_enc', 'окрас_enc', 'шерсть_enc', 'уши_enc', 'хвост_enc']\n",
    "\n",
    "X = X_data[X_columns]"
   ]
  },
  {
   "cell_type": "code",
   "execution_count": 10,
   "metadata": {
    "id": "cYqvhPSX8RVN"
   },
   "outputs": [],
   "source": [
    "X1 = X[X['вид _enc']==0]\n",
    "X2 = X[X['вид _enc']==1]"
   ]
  },
  {
   "cell_type": "code",
   "execution_count": 11,
   "metadata": {
    "colab": {
     "base_uri": "https://localhost:8080/"
    },
    "id": "21OSmZ90NC_e",
    "outputId": "af6e99be-bd5e-41eb-bf4e-1ea89b333abe"
   },
   "outputs": [
    {
     "name": "stderr",
     "output_type": "stream",
     "text": [
      "/usr/local/lib/python3.6/dist-packages/pandas/core/frame.py:4170: SettingWithCopyWarning: \n",
      "A value is trying to be set on a copy of a slice from a DataFrame\n",
      "\n",
      "See the caveats in the documentation: https://pandas.pydata.org/pandas-docs/stable/user_guide/indexing.html#returning-a-view-versus-a-copy\n",
      "  errors=errors,\n"
     ]
    }
   ],
   "source": [
    "X1.drop(columns=['вид _enc'], inplace=True)\n",
    "X2.drop(columns=['вид _enc'], inplace=True)"
   ]
  },
  {
   "cell_type": "code",
   "execution_count": 12,
   "metadata": {
    "id": "Qbs80Tg-6G3e"
   },
   "outputs": [],
   "source": [
    "from sklearn.preprocessing import StandardScaler, MaxAbsScaler, MinMaxScaler, RobustScaler, scale\n",
    "\n",
    "X1 = scale(X1, axis=1)\n",
    "X2 = scale(X2, axis=1)"
   ]
  },
  {
   "cell_type": "code",
   "execution_count": 13,
   "metadata": {
    "colab": {
     "base_uri": "https://localhost:8080/"
    },
    "id": "RWiXLnw17pOs",
    "outputId": "5c171ac4-f5ed-41e0-9f81-0567114d7ff7"
   },
   "outputs": [
    {
     "data": {
      "text/plain": [
       "(188, 5)"
      ]
     },
     "execution_count": 13,
     "metadata": {
      "tags": []
     },
     "output_type": "execute_result"
    }
   ],
   "source": [
    "X2.shape"
   ]
  },
  {
   "cell_type": "code",
   "execution_count": 14,
   "metadata": {
    "colab": {
     "base_uri": "https://localhost:8080/"
    },
    "id": "E8gnn9HG8XjU",
    "outputId": "90046c81-c21e-4756-9c3c-45a7c2ce522d"
   },
   "outputs": [
    {
     "data": {
      "text/plain": [
       "0.9032072072657873"
      ]
     },
     "execution_count": 14,
     "metadata": {
      "tags": []
     },
     "output_type": "execute_result"
    }
   ],
   "source": [
    "from sklearn.cluster import DBSCAN, AgglomerativeClustering, SpectralClustering, OPTICS, AffinityPropagation\n",
    "from sklearn.metrics import silhouette_score\n",
    "\n",
    "clustering1 = AgglomerativeClustering(distance_threshold=0.75, n_clusters=None, affinity='cosine', linkage='average')\n",
    "\n",
    "y_cluster1 = clustering1.fit_predict(X1)\n",
    "silhouette_score(X1, y_cluster1)"
   ]
  },
  {
   "cell_type": "code",
   "execution_count": 22,
   "metadata": {
    "colab": {
     "base_uri": "https://localhost:8080/"
    },
    "id": "lhqtxcHqOWux",
    "outputId": "42400d4c-8803-41fc-c3a3-77fc1f78ebb2"
   },
   "outputs": [
    {
     "data": {
      "text/plain": [
       "array([0, 1])"
      ]
     },
     "execution_count": 22,
     "metadata": {
      "tags": []
     },
     "output_type": "execute_result"
    }
   ],
   "source": [
    "np.unique(y_cluster1)"
   ]
  },
  {
   "cell_type": "code",
   "execution_count": 16,
   "metadata": {
    "colab": {
     "base_uri": "https://localhost:8080/"
    },
    "id": "1h2BR3suK0rw",
    "outputId": "3da79948-c216-45c7-88f9-40d4fe27a09c"
   },
   "outputs": [
    {
     "data": {
      "text/plain": [
       "0.84414349991818"
      ]
     },
     "execution_count": 16,
     "metadata": {
      "tags": []
     },
     "output_type": "execute_result"
    }
   ],
   "source": [
    "clustering2 = AgglomerativeClustering(distance_threshold=0.3, n_clusters=None, affinity='cosine', linkage='complete')\n",
    "\n",
    "y_cluster2 = clustering2.fit_predict(X2)\n",
    "silhouette_score(X2, y_cluster2)"
   ]
  },
  {
   "cell_type": "code",
   "execution_count": 18,
   "metadata": {
    "colab": {
     "base_uri": "https://localhost:8080/"
    },
    "id": "1bWMl6FmOdx-",
    "outputId": "e56e2294-37bb-4008-f559-f62d084bc414"
   },
   "outputs": [
    {
     "data": {
      "text/plain": [
       "array([ 0,  1,  2,  3,  4,  5,  6,  7,  8,  9, 10])"
      ]
     },
     "execution_count": 18,
     "metadata": {
      "tags": []
     },
     "output_type": "execute_result"
    }
   ],
   "source": [
    "import numpy as np\n",
    "\n",
    "np.unique(y_cluster2)"
   ]
  },
  {
   "cell_type": "code",
   "execution_count": 19,
   "metadata": {
    "id": "9CjxDePCLN5y"
   },
   "outputs": [],
   "source": [
    "data['вид '] = data['вид '].apply(lambda x: x.lower().strip())"
   ]
  },
  {
   "cell_type": "code",
   "execution_count": 20,
   "metadata": {
    "id": "tD_JyijSRBQC"
   },
   "outputs": [],
   "source": [
    "df_cats = data[data['вид ']=='кошка']"
   ]
  },
  {
   "cell_type": "code",
   "execution_count": 21,
   "metadata": {
    "colab": {
     "base_uri": "https://localhost:8080/"
    },
    "id": "y0DIeWk2SDvm",
    "outputId": "5262fc81-9f91-4345-f1e0-7b655d53b642"
   },
   "outputs": [
    {
     "name": "stderr",
     "output_type": "stream",
     "text": [
      "/usr/local/lib/python3.6/dist-packages/ipykernel_launcher.py:1: SettingWithCopyWarning: \n",
      "A value is trying to be set on a copy of a slice from a DataFrame.\n",
      "Try using .loc[row_indexer,col_indexer] = value instead\n",
      "\n",
      "See the caveats in the documentation: https://pandas.pydata.org/pandas-docs/stable/user_guide/indexing.html#returning-a-view-versus-a-copy\n",
      "  \"\"\"Entry point for launching an IPython kernel.\n"
     ]
    }
   ],
   "source": [
    "df_cats['целевая метка'] = y_cluster1"
   ]
  },
  {
   "cell_type": "code",
   "execution_count": 23,
   "metadata": {
    "id": "wCyF3BrjSQo2"
   },
   "outputs": [],
   "source": [
    "df_dogs = data[data['вид ']=='собака']"
   ]
  },
  {
   "cell_type": "code",
   "execution_count": 24,
   "metadata": {
    "colab": {
     "base_uri": "https://localhost:8080/"
    },
    "id": "gXTZujuFSZIx",
    "outputId": "4cb66ddb-fa24-48f7-db35-5f8f75532599"
   },
   "outputs": [
    {
     "name": "stderr",
     "output_type": "stream",
     "text": [
      "/usr/local/lib/python3.6/dist-packages/ipykernel_launcher.py:1: SettingWithCopyWarning: \n",
      "A value is trying to be set on a copy of a slice from a DataFrame.\n",
      "Try using .loc[row_indexer,col_indexer] = value instead\n",
      "\n",
      "See the caveats in the documentation: https://pandas.pydata.org/pandas-docs/stable/user_guide/indexing.html#returning-a-view-versus-a-copy\n",
      "  \"\"\"Entry point for launching an IPython kernel.\n"
     ]
    }
   ],
   "source": [
    "df_dogs['целевая метка'] = y_cluster2 + 2"
   ]
  },
  {
   "cell_type": "code",
   "execution_count": 25,
   "metadata": {
    "id": "9DSM_9KVShdJ"
   },
   "outputs": [],
   "source": [
    "new_data = pd.concat([df_cats, df_dogs], ignore_index=True)"
   ]
  },
  {
   "cell_type": "code",
   "execution_count": 27,
   "metadata": {
    "id": "u3jkH_UiS4sK"
   },
   "outputs": [],
   "source": [
    "new_data.to_csv('dataset.csv')"
   ]
  },
  {
   "cell_type": "code",
   "execution_count": null,
   "metadata": {
    "id": "FEAL1ZnNXTOR"
   },
   "outputs": [],
   "source": []
  }
 ],
 "metadata": {
  "colab": {
   "name": "clustering.ipynb",
   "provenance": []
  },
  "kernelspec": {
   "display_name": "Python 3",
   "language": "python",
   "name": "python3"
  }
 },
 "nbformat": 4,
 "nbformat_minor": 1
}
