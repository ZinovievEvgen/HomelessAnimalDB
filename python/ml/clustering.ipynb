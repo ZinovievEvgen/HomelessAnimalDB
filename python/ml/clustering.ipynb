{
  "nbformat": 4,
  "nbformat_minor": 0,
  "metadata": {
    "colab": {
      "name": "clustering.ipynb",
      "provenance": []
    },
    "kernelspec": {
      "name": "python3",
      "display_name": "Python 3"
    }
  },
  "cells": [
    {
      "cell_type": "code",
      "metadata": {
        "id": "6f7VjsCAviwY",
        "outputId": "9337dbeb-0457-4151-8bdf-876082e7a481",
        "colab": {
          "base_uri": "https://localhost:8080/"
        }
      },
      "source": [
        "from google.colab import drive\n",
        "drive.mount('/content/gdrive/', force_remount=True)"
      ],
      "execution_count": 1,
      "outputs": [
        {
          "output_type": "stream",
          "text": [
            "Mounted at /content/gdrive/\n"
          ],
          "name": "stdout"
        }
      ]
    },
    {
      "cell_type": "code",
      "metadata": {
        "id": "pXbFWBUgvx5E"
      },
      "source": [
        "import pandas as pd"
      ],
      "execution_count": 2,
      "outputs": []
    },
    {
      "cell_type": "code",
      "metadata": {
        "id": "LXdTomv7wFbR"
      },
      "source": [
        "data = pd.read_excel('/content/gdrive/My Drive/Приложение 1 (data set)/Data set.xlsx', header = 1)"
      ],
      "execution_count": 3,
      "outputs": []
    },
    {
      "cell_type": "code",
      "metadata": {
        "id": "_rSx1d9Cz5Ld",
        "outputId": "22163f87-00f2-4b4b-f897-aa9452ea772c",
        "colab": {
          "base_uri": "https://localhost:8080/"
        }
      },
      "source": [
        "data.columns"
      ],
      "execution_count": 4,
      "outputs": [
        {
          "output_type": "execute_result",
          "data": {
            "text/plain": [
              "Index(['Unnamed: 0', 'карточка учета животного №', 'вид ', 'возраст, год',\n",
              "       'вес, кг', 'кличка', 'пол', 'порода', 'окрас', 'шерсть', 'уши', 'хвост',\n",
              "       'размер', 'особые приметы', 'Вольер №', 'идентификационная метка',\n",
              "       'дата стерилизации', 'ф.и.о. ветеринарного врача',\n",
              "       'Социализировано (да/нет)',\n",
              "       'заказ-наряд / акт о поступлении животного №',\n",
              "       'заказ-наряд дата/ акт о поступлении животного, дата',\n",
              "       'административный округ', 'акт отлова №', 'адрес места отлова',\n",
              "       'юридическое лицо ', 'адрес', 'телефон', 'ф.и.о. опекунов', 'адрес.1',\n",
              "       'телефон.1', 'физическое лицо ф.и.о.', 'паспорт РФ серия номер',\n",
              "       'выдан', 'дата выдачи', 'адрес регистрации', 'телефон.2',\n",
              "       'дата поступления в приют', 'акт №', 'дата выбытия из приюта',\n",
              "       'причина выбытия', 'акт/договор №', 'адрес приюта',\n",
              "       'эксплуатирующая организация', 'ф.и.о. руководителя приюта',\n",
              "       'ф.и.о. сотрудника по уходу за животным', '№ п/п', 'дата',\n",
              "       'название препарата', 'доза', '№ п/п.1', 'дата.1', 'вид вакцины',\n",
              "       '№ серии', 'дата осмотра', 'анамнез '],\n",
              "      dtype='object')"
            ]
          },
          "metadata": {
            "tags": []
          },
          "execution_count": 4
        }
      ]
    },
    {
      "cell_type": "code",
      "metadata": {
        "id": "nerc-N3HwPuj"
      },
      "source": [
        "from sklearn.preprocessing import LabelEncoder\n",
        "\n",
        "columns = ['вид ', 'размер', 'окрас', 'шерсть', 'уши', 'хвост']\n",
        "\n",
        "X_data = data[columns]"
      ],
      "execution_count": 5,
      "outputs": []
    },
    {
      "cell_type": "code",
      "metadata": {
        "id": "KMOcVLGA4XrO",
        "outputId": "4c89cc9c-9c17-4e74-b4a0-bc949d67e9da",
        "colab": {
          "base_uri": "https://localhost:8080/"
        }
      },
      "source": [
        "X_data['вид '] = X_data['вид '].apply(lambda x: x.lower().strip())\n",
        "X_data['шерсть'] = X_data['шерсть'].apply(lambda x: x.lower().strip())"
      ],
      "execution_count": 6,
      "outputs": [
        {
          "output_type": "stream",
          "text": [
            "/usr/local/lib/python3.6/dist-packages/ipykernel_launcher.py:1: SettingWithCopyWarning: \n",
            "A value is trying to be set on a copy of a slice from a DataFrame.\n",
            "Try using .loc[row_indexer,col_indexer] = value instead\n",
            "\n",
            "See the caveats in the documentation: https://pandas.pydata.org/pandas-docs/stable/user_guide/indexing.html#returning-a-view-versus-a-copy\n",
            "  \"\"\"Entry point for launching an IPython kernel.\n",
            "/usr/local/lib/python3.6/dist-packages/ipykernel_launcher.py:2: SettingWithCopyWarning: \n",
            "A value is trying to be set on a copy of a slice from a DataFrame.\n",
            "Try using .loc[row_indexer,col_indexer] = value instead\n",
            "\n",
            "See the caveats in the documentation: https://pandas.pydata.org/pandas-docs/stable/user_guide/indexing.html#returning-a-view-versus-a-copy\n",
            "  \n"
          ],
          "name": "stderr"
        }
      ]
    },
    {
      "cell_type": "code",
      "metadata": {
        "id": "dFwcOu0k6sUD",
        "outputId": "7d64e6b5-e3ae-4567-d491-03a2bca7967f",
        "colab": {
          "base_uri": "https://localhost:8080/"
        }
      },
      "source": [
        "for col in X_data.columns:\n",
        "    print(col, len(pd.unique(X_data[col])))"
      ],
      "execution_count": 7,
      "outputs": [
        {
          "output_type": "stream",
          "text": [
            "вид  2\n",
            "размер 4\n",
            "окрас 29\n",
            "шерсть 4\n",
            "уши 4\n",
            "хвост 6\n"
          ],
          "name": "stdout"
        }
      ]
    },
    {
      "cell_type": "code",
      "metadata": {
        "id": "0v0WoFnT0Kba",
        "outputId": "f85cdfd6-2460-4c24-de54-a5251a505f70",
        "colab": {
          "base_uri": "https://localhost:8080/"
        }
      },
      "source": [
        "for col in X_data.columns:\n",
        "    X_data[col + '_enc'] = LabelEncoder().fit_transform(X_data[col])"
      ],
      "execution_count": 8,
      "outputs": [
        {
          "output_type": "stream",
          "text": [
            "/usr/local/lib/python3.6/dist-packages/ipykernel_launcher.py:2: SettingWithCopyWarning: \n",
            "A value is trying to be set on a copy of a slice from a DataFrame.\n",
            "Try using .loc[row_indexer,col_indexer] = value instead\n",
            "\n",
            "See the caveats in the documentation: https://pandas.pydata.org/pandas-docs/stable/user_guide/indexing.html#returning-a-view-versus-a-copy\n",
            "  \n"
          ],
          "name": "stderr"
        }
      ]
    },
    {
      "cell_type": "code",
      "metadata": {
        "id": "KwQBvMF-xrHM"
      },
      "source": [
        "X_columns = ['вид _enc', 'размер_enc', 'окрас_enc', 'шерсть_enc', 'уши_enc', 'хвост_enc']\n",
        "\n",
        "X = X_data[X_columns]"
      ],
      "execution_count": 9,
      "outputs": []
    },
    {
      "cell_type": "code",
      "metadata": {
        "id": "cYqvhPSX8RVN"
      },
      "source": [
        "X1 = X[X['вид _enc']==0]\n",
        "X2 = X[X['вид _enc']==1]"
      ],
      "execution_count": 10,
      "outputs": []
    },
    {
      "cell_type": "code",
      "metadata": {
        "id": "21OSmZ90NC_e",
        "outputId": "af6e99be-bd5e-41eb-bf4e-1ea89b333abe",
        "colab": {
          "base_uri": "https://localhost:8080/"
        }
      },
      "source": [
        "X1.drop(columns=['вид _enc'], inplace=True)\n",
        "X2.drop(columns=['вид _enc'], inplace=True)"
      ],
      "execution_count": 11,
      "outputs": [
        {
          "output_type": "stream",
          "text": [
            "/usr/local/lib/python3.6/dist-packages/pandas/core/frame.py:4170: SettingWithCopyWarning: \n",
            "A value is trying to be set on a copy of a slice from a DataFrame\n",
            "\n",
            "See the caveats in the documentation: https://pandas.pydata.org/pandas-docs/stable/user_guide/indexing.html#returning-a-view-versus-a-copy\n",
            "  errors=errors,\n"
          ],
          "name": "stderr"
        }
      ]
    },
    {
      "cell_type": "code",
      "metadata": {
        "id": "Qbs80Tg-6G3e"
      },
      "source": [
        "from sklearn.preprocessing import StandardScaler, MaxAbsScaler, MinMaxScaler, RobustScaler, scale\n",
        "\n",
        "X1 = scale(X1, axis=1)\n",
        "X2 = scale(X2, axis=1)"
      ],
      "execution_count": 12,
      "outputs": []
    },
    {
      "cell_type": "code",
      "metadata": {
        "id": "RWiXLnw17pOs",
        "outputId": "5c171ac4-f5ed-41e0-9f81-0567114d7ff7",
        "colab": {
          "base_uri": "https://localhost:8080/"
        }
      },
      "source": [
        "X2.shape"
      ],
      "execution_count": 13,
      "outputs": [
        {
          "output_type": "execute_result",
          "data": {
            "text/plain": [
              "(188, 5)"
            ]
          },
          "metadata": {
            "tags": []
          },
          "execution_count": 13
        }
      ]
    },
    {
      "cell_type": "code",
      "metadata": {
        "id": "E8gnn9HG8XjU",
        "outputId": "90046c81-c21e-4756-9c3c-45a7c2ce522d",
        "colab": {
          "base_uri": "https://localhost:8080/"
        }
      },
      "source": [
        "from sklearn.cluster import DBSCAN, AgglomerativeClustering, SpectralClustering, OPTICS, AffinityPropagation\n",
        "from sklearn.metrics import silhouette_score\n",
        "\n",
        "clustering1 = AgglomerativeClustering(distance_threshold=0.75, n_clusters=None, affinity='cosine', linkage='average')\n",
        "\n",
        "y_cluster1 = clustering1.fit_predict(X1)\n",
        "silhouette_score(X1, y_cluster1)"
      ],
      "execution_count": 14,
      "outputs": [
        {
          "output_type": "execute_result",
          "data": {
            "text/plain": [
              "0.9032072072657873"
            ]
          },
          "metadata": {
            "tags": []
          },
          "execution_count": 14
        }
      ]
    },
    {
      "cell_type": "code",
      "metadata": {
        "id": "lhqtxcHqOWux",
        "outputId": "42400d4c-8803-41fc-c3a3-77fc1f78ebb2",
        "colab": {
          "base_uri": "https://localhost:8080/"
        }
      },
      "source": [
        "np.unique(y_cluster1)"
      ],
      "execution_count": 22,
      "outputs": [
        {
          "output_type": "execute_result",
          "data": {
            "text/plain": [
              "array([0, 1])"
            ]
          },
          "metadata": {
            "tags": []
          },
          "execution_count": 22
        }
      ]
    },
    {
      "cell_type": "code",
      "metadata": {
        "id": "1h2BR3suK0rw",
        "outputId": "3da79948-c216-45c7-88f9-40d4fe27a09c",
        "colab": {
          "base_uri": "https://localhost:8080/"
        }
      },
      "source": [
        "clustering2 = AgglomerativeClustering(distance_threshold=0.3, n_clusters=None, affinity='cosine', linkage='complete')\n",
        "\n",
        "y_cluster2 = clustering2.fit_predict(X2)\n",
        "silhouette_score(X2, y_cluster2)"
      ],
      "execution_count": 16,
      "outputs": [
        {
          "output_type": "execute_result",
          "data": {
            "text/plain": [
              "0.84414349991818"
            ]
          },
          "metadata": {
            "tags": []
          },
          "execution_count": 16
        }
      ]
    },
    {
      "cell_type": "code",
      "metadata": {
        "id": "1bWMl6FmOdx-",
        "outputId": "e56e2294-37bb-4008-f559-f62d084bc414",
        "colab": {
          "base_uri": "https://localhost:8080/"
        }
      },
      "source": [
        "import numpy as np\n",
        "\n",
        "np.unique(y_cluster2)"
      ],
      "execution_count": 18,
      "outputs": [
        {
          "output_type": "execute_result",
          "data": {
            "text/plain": [
              "array([ 0,  1,  2,  3,  4,  5,  6,  7,  8,  9, 10])"
            ]
          },
          "metadata": {
            "tags": []
          },
          "execution_count": 18
        }
      ]
    },
    {
      "cell_type": "code",
      "metadata": {
        "id": "9CjxDePCLN5y"
      },
      "source": [
        "data['вид '] = data['вид '].apply(lambda x: x.lower().strip())"
      ],
      "execution_count": 19,
      "outputs": []
    },
    {
      "cell_type": "code",
      "metadata": {
        "id": "tD_JyijSRBQC"
      },
      "source": [
        "df_cats = data[data['вид ']=='кошка']"
      ],
      "execution_count": 20,
      "outputs": []
    },
    {
      "cell_type": "code",
      "metadata": {
        "id": "y0DIeWk2SDvm",
        "outputId": "5262fc81-9f91-4345-f1e0-7b655d53b642",
        "colab": {
          "base_uri": "https://localhost:8080/"
        }
      },
      "source": [
        "df_cats['целевая метка'] = y_cluster1"
      ],
      "execution_count": 21,
      "outputs": [
        {
          "output_type": "stream",
          "text": [
            "/usr/local/lib/python3.6/dist-packages/ipykernel_launcher.py:1: SettingWithCopyWarning: \n",
            "A value is trying to be set on a copy of a slice from a DataFrame.\n",
            "Try using .loc[row_indexer,col_indexer] = value instead\n",
            "\n",
            "See the caveats in the documentation: https://pandas.pydata.org/pandas-docs/stable/user_guide/indexing.html#returning-a-view-versus-a-copy\n",
            "  \"\"\"Entry point for launching an IPython kernel.\n"
          ],
          "name": "stderr"
        }
      ]
    },
    {
      "cell_type": "code",
      "metadata": {
        "id": "wCyF3BrjSQo2"
      },
      "source": [
        "df_dogs = data[data['вид ']=='собака']"
      ],
      "execution_count": 23,
      "outputs": []
    },
    {
      "cell_type": "code",
      "metadata": {
        "id": "gXTZujuFSZIx",
        "outputId": "4cb66ddb-fa24-48f7-db35-5f8f75532599",
        "colab": {
          "base_uri": "https://localhost:8080/"
        }
      },
      "source": [
        "df_dogs['целевая метка'] = y_cluster2 + 2"
      ],
      "execution_count": 24,
      "outputs": [
        {
          "output_type": "stream",
          "text": [
            "/usr/local/lib/python3.6/dist-packages/ipykernel_launcher.py:1: SettingWithCopyWarning: \n",
            "A value is trying to be set on a copy of a slice from a DataFrame.\n",
            "Try using .loc[row_indexer,col_indexer] = value instead\n",
            "\n",
            "See the caveats in the documentation: https://pandas.pydata.org/pandas-docs/stable/user_guide/indexing.html#returning-a-view-versus-a-copy\n",
            "  \"\"\"Entry point for launching an IPython kernel.\n"
          ],
          "name": "stderr"
        }
      ]
    },
    {
      "cell_type": "code",
      "metadata": {
        "id": "9DSM_9KVShdJ"
      },
      "source": [
        "new_data = pd.concat([df_cats, df_dogs], ignore_index=True)"
      ],
      "execution_count": 25,
      "outputs": []
    },
    {
      "cell_type": "code",
      "metadata": {
        "id": "u3jkH_UiS4sK"
      },
      "source": [
        "new_data.to_csv('dataset.csv')"
      ],
      "execution_count": 27,
      "outputs": []
    },
    {
      "cell_type": "code",
      "metadata": {
        "id": "FEAL1ZnNXTOR"
      },
      "source": [
        ""
      ],
      "execution_count": null,
      "outputs": []
    }
  ]
}